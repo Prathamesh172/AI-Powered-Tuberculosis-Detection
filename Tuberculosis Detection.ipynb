{
 "cells": [
  {
   "cell_type": "code",
   "execution_count": 1,
   "id": "f355e604-91c1-40bf-8449-26d10f750562",
   "metadata": {},
   "outputs": [
    {
     "name": "stdout",
     "output_type": "stream",
     "text": [
      "✅ Dataset successfully split!\n"
     ]
    }
   ],
   "source": [
    "import os\n",
    "import shutil\n",
    "import random\n",
    "\n",
    "# Paths to original dataset\n",
    "dataset_path = r\"C:\\Users\\Prathamesh\\Downloads\\TB Dataset\\TB_Chest_Radiography_Database\"\n",
    "categories = [\"Normal\", \"Tuberculosis\"]\n",
    "\n",
    "# Create new directories\n",
    "split_base = \"path_to_split_data\"\n",
    "os.makedirs(os.path.join(split_base, \"train/Normal\"), exist_ok=True)\n",
    "os.makedirs(os.path.join(split_base, \"train/Tuberculosis\"), exist_ok=True)\n",
    "os.makedirs(os.path.join(split_base, \"val/Normal\"), exist_ok=True)\n",
    "os.makedirs(os.path.join(split_base, \"val/Tuberculosis\"), exist_ok=True)\n",
    "os.makedirs(os.path.join(split_base, \"test/Normal\"), exist_ok=True)\n",
    "os.makedirs(os.path.join(split_base, \"test/Tuberculosis\"), exist_ok=True)\n",
    "\n",
    "# Splitting the data\n",
    "for category in categories:\n",
    "    img_path = os.path.join(dataset_path, category)\n",
    "    images = os.listdir(img_path)\n",
    "    random.shuffle(images)\n",
    "\n",
    "    train_split = int(0.8 * len(images))\n",
    "    val_split = int(0.9 * len(images))\n",
    "\n",
    "    for i, img in enumerate(images):\n",
    "        src = os.path.join(img_path, img)\n",
    "\n",
    "        if i < train_split:\n",
    "            dest = os.path.join(split_base, \"train\", category, img)\n",
    "        elif i < val_split:\n",
    "            dest = os.path.join(split_base, \"val\", category, img)\n",
    "        else:\n",
    "            dest = os.path.join(split_base, \"test\", category, img)\n",
    "\n",
    "        shutil.copy(src, dest)\n",
    "\n",
    "print(\"✅ Dataset successfully split!\")"
   ]
  },
  {
   "cell_type": "code",
   "execution_count": 3,
   "id": "570c3b8a-772d-48dc-b965-9902d19ab851",
   "metadata": {},
   "outputs": [
    {
     "name": "stdout",
     "output_type": "stream",
     "text": [
      "Found 3360 images belonging to 2 classes.\n",
      "Found 420 images belonging to 2 classes.\n",
      "Found 420 images belonging to 2 classes.\n"
     ]
    }
   ],
   "source": [
    "import tensorflow as tf\n",
    "from tensorflow.keras.preprocessing.image import ImageDataGenerator\n",
    "from tensorflow.keras.applications import ResNet50\n",
    "from tensorflow.keras.layers import Flatten, Dense, Dropout\n",
    "from tensorflow.keras.models import Model\n",
    "import os\n",
    "\n",
    "# Dataset Path \n",
    "data_dir = r\"C:\\Users\\Prathamesh\\Downloads\\TB Split Data\"\n",
    "\n",
    "# Data Preprocessing\n",
    "datagen = ImageDataGenerator(rescale=1./255)\n",
    "\n",
    "train_data = datagen.flow_from_directory(\n",
    "    os.path.join(data_dir, \"train\"),\n",
    "    target_size=(224, 224),\n",
    "    batch_size=32,\n",
    "    class_mode=\"binary\"\n",
    ")\n",
    "\n",
    "val_data = datagen.flow_from_directory(\n",
    "    os.path.join(data_dir, \"val\"),\n",
    "    target_size=(224, 224),\n",
    "    batch_size=32,\n",
    "    class_mode=\"binary\"\n",
    ")\n",
    "\n",
    "test_data = datagen.flow_from_directory(\n",
    "    os.path.join(data_dir, \"test\"),\n",
    "    target_size=(224, 224),\n",
    "    batch_size=32,\n",
    "    class_mode=\"binary\"\n",
    ")\n",
    "\n",
    "# Load Pre-trained ResNet50 (without top layers)\n",
    "base_model = ResNet50(weights=\"imagenet\", include_top=False, input_shape=(224, 224, 3))\n",
    "\n",
    "# Freeze base model layers (for feature extraction)\n",
    "for layer in base_model.layers:\n",
    "    layer.trainable = False\n",
    "\n",
    "# Add Custom Layers\n",
    "x = Flatten()(base_model.output)\n",
    "x = Dense(512, activation=\"relu\")(x)\n",
    "x = Dropout(0.5)(x)  # Prevent overfitting\n",
    "x = Dense(1, activation=\"sigmoid\")(x)  # Binary Classification\n",
    "\n",
    "# Final Model\n",
    "model = Model(inputs=base_model.input, outputs=x)"
   ]
  },
  {
   "cell_type": "code",
   "execution_count": 6,
   "id": "7f68af59-0c8a-4ca9-a024-e086b0f1e94e",
   "metadata": {},
   "outputs": [
    {
     "name": "stdout",
     "output_type": "stream",
     "text": [
      "Epoch 1/20\n",
      "\u001b[1m105/105\u001b[0m \u001b[32m━━━━━━━━━━━━━━━━━━━━\u001b[0m\u001b[37m\u001b[0m \u001b[1m384s\u001b[0m 4s/step - accuracy: 0.8376 - loss: 0.4506 - val_accuracy: 0.8333 - val_loss: 0.3385\n",
      "Epoch 2/20\n",
      "\u001b[1m105/105\u001b[0m \u001b[32m━━━━━━━━━━━━━━━━━━━━\u001b[0m\u001b[37m\u001b[0m \u001b[1m362s\u001b[0m 3s/step - accuracy: 0.8258 - loss: 0.4362 - val_accuracy: 0.8333 - val_loss: 0.3240\n",
      "Epoch 3/20\n",
      "\u001b[1m105/105\u001b[0m \u001b[32m━━━━━━━━━━━━━━━━━━━━\u001b[0m\u001b[37m\u001b[0m \u001b[1m350s\u001b[0m 3s/step - accuracy: 0.8274 - loss: 0.4158 - val_accuracy: 0.8333 - val_loss: 0.3159\n",
      "Epoch 4/20\n",
      "\u001b[1m105/105\u001b[0m \u001b[32m━━━━━━━━━━━━━━━━━━━━\u001b[0m\u001b[37m\u001b[0m \u001b[1m349s\u001b[0m 3s/step - accuracy: 0.8425 - loss: 0.3979 - val_accuracy: 0.8333 - val_loss: 0.3140\n",
      "Epoch 5/20\n",
      "\u001b[1m105/105\u001b[0m \u001b[32m━━━━━━━━━━━━━━━━━━━━\u001b[0m\u001b[37m\u001b[0m \u001b[1m393s\u001b[0m 3s/step - accuracy: 0.8302 - loss: 0.4181 - val_accuracy: 0.8333 - val_loss: 0.3240\n",
      "Epoch 6/20\n",
      "\u001b[1m105/105\u001b[0m \u001b[32m━━━━━━━━━━━━━━━━━━━━\u001b[0m\u001b[37m\u001b[0m \u001b[1m393s\u001b[0m 4s/step - accuracy: 0.8358 - loss: 0.4021 - val_accuracy: 0.8333 - val_loss: 0.3424\n",
      "Epoch 7/20\n",
      "\u001b[1m105/105\u001b[0m \u001b[32m━━━━━━━━━━━━━━━━━━━━\u001b[0m\u001b[37m\u001b[0m \u001b[1m387s\u001b[0m 4s/step - accuracy: 0.8338 - loss: 0.4025 - val_accuracy: 0.8333 - val_loss: 0.3093\n",
      "Epoch 8/20\n",
      "\u001b[1m105/105\u001b[0m \u001b[32m━━━━━━━━━━━━━━━━━━━━\u001b[0m\u001b[37m\u001b[0m \u001b[1m166s\u001b[0m 1s/step - accuracy: 0.8273 - loss: 0.4060 - val_accuracy: 0.8333 - val_loss: 0.3732\n",
      "Epoch 9/20\n",
      "\u001b[1m105/105\u001b[0m \u001b[32m━━━━━━━━━━━━━━━━━━━━\u001b[0m\u001b[37m\u001b[0m \u001b[1m117s\u001b[0m 1s/step - accuracy: 0.8355 - loss: 0.4273 - val_accuracy: 0.8333 - val_loss: 0.3524\n",
      "Epoch 10/20\n",
      "\u001b[1m105/105\u001b[0m \u001b[32m━━━━━━━━━━━━━━━━━━━━\u001b[0m\u001b[37m\u001b[0m \u001b[1m115s\u001b[0m 1s/step - accuracy: 0.8356 - loss: 0.3898 - val_accuracy: 0.8333 - val_loss: 0.3991\n",
      "Epoch 11/20\n",
      "\u001b[1m105/105\u001b[0m \u001b[32m━━━━━━━━━━━━━━━━━━━━\u001b[0m\u001b[37m\u001b[0m \u001b[1m115s\u001b[0m 1s/step - accuracy: 0.8283 - loss: 0.4424 - val_accuracy: 0.8333 - val_loss: 0.3150\n",
      "Epoch 12/20\n",
      "\u001b[1m105/105\u001b[0m \u001b[32m━━━━━━━━━━━━━━━━━━━━\u001b[0m\u001b[37m\u001b[0m \u001b[1m115s\u001b[0m 1s/step - accuracy: 0.8222 - loss: 0.4011 - val_accuracy: 0.8333 - val_loss: 0.3253\n",
      "Epoch 13/20\n",
      "\u001b[1m105/105\u001b[0m \u001b[32m━━━━━━━━━━━━━━━━━━━━\u001b[0m\u001b[37m\u001b[0m \u001b[1m116s\u001b[0m 1s/step - accuracy: 0.8402 - loss: 0.3931 - val_accuracy: 0.8333 - val_loss: 0.3125\n",
      "Epoch 14/20\n",
      "\u001b[1m105/105\u001b[0m \u001b[32m━━━━━━━━━━━━━━━━━━━━\u001b[0m\u001b[37m\u001b[0m \u001b[1m116s\u001b[0m 1s/step - accuracy: 0.8268 - loss: 0.4049 - val_accuracy: 0.8333 - val_loss: 0.3074\n",
      "Epoch 15/20\n",
      "\u001b[1m105/105\u001b[0m \u001b[32m━━━━━━━━━━━━━━━━━━━━\u001b[0m\u001b[37m\u001b[0m \u001b[1m123s\u001b[0m 1s/step - accuracy: 0.8290 - loss: 0.3883 - val_accuracy: 0.8333 - val_loss: 0.3179\n",
      "Epoch 16/20\n",
      "\u001b[1m105/105\u001b[0m \u001b[32m━━━━━━━━━━━━━━━━━━━━\u001b[0m\u001b[37m\u001b[0m \u001b[1m118s\u001b[0m 1s/step - accuracy: 0.8251 - loss: 0.3920 - val_accuracy: 0.8333 - val_loss: 0.3678\n",
      "Epoch 17/20\n",
      "\u001b[1m105/105\u001b[0m \u001b[32m━━━━━━━━━━━━━━━━━━━━\u001b[0m\u001b[37m\u001b[0m \u001b[1m117s\u001b[0m 1s/step - accuracy: 0.8279 - loss: 0.4070 - val_accuracy: 0.8333 - val_loss: 0.3597\n",
      "Epoch 18/20\n",
      "\u001b[1m105/105\u001b[0m \u001b[32m━━━━━━━━━━━━━━━━━━━━\u001b[0m\u001b[37m\u001b[0m \u001b[1m116s\u001b[0m 1s/step - accuracy: 0.8234 - loss: 0.4016 - val_accuracy: 0.8333 - val_loss: 0.3441\n",
      "Epoch 19/20\n",
      "\u001b[1m105/105\u001b[0m \u001b[32m━━━━━━━━━━━━━━━━━━━━\u001b[0m\u001b[37m\u001b[0m \u001b[1m118s\u001b[0m 1s/step - accuracy: 0.8362 - loss: 0.4005 - val_accuracy: 0.8333 - val_loss: 0.3691\n",
      "Epoch 20/20\n",
      "\u001b[1m105/105\u001b[0m \u001b[32m━━━━━━━━━━━━━━━━━━━━\u001b[0m\u001b[37m\u001b[0m \u001b[1m119s\u001b[0m 1s/step - accuracy: 0.8403 - loss: 0.4210 - val_accuracy: 0.8333 - val_loss: 0.4658\n"
     ]
    }
   ],
   "source": [
    "#  Compile Model\n",
    "model.compile(optimizer=\"adam\", loss=\"binary_crossentropy\", metrics=[\"accuracy\"])\n",
    "\n",
    "# Train Model\n",
    "history = model.fit(\n",
    "    train_data,\n",
    "    validation_data=val_data,\n",
    "    epochs=20,\n",
    ")"
   ]
  },
  {
   "cell_type": "code",
   "execution_count": 7,
   "id": "6db27c2b-7765-45b0-b3fb-c69679674937",
   "metadata": {},
   "outputs": [
    {
     "name": "stdout",
     "output_type": "stream",
     "text": [
      "\u001b[1m14/14\u001b[0m \u001b[32m━━━━━━━━━━━━━━━━━━━━\u001b[0m\u001b[37m\u001b[0m \u001b[1m11s\u001b[0m 802ms/step - accuracy: 0.8364 - loss: 0.4624\n",
      "Test Accuracy: 83.33%\n"
     ]
    }
   ],
   "source": [
    "# Evaluate on Test Data\n",
    "test_loss, test_acc = model.evaluate(test_data)\n",
    "print(f\"Test Accuracy: {test_acc:.2%}\")"
   ]
  },
  {
   "cell_type": "code",
   "execution_count": null,
   "id": "2e954bf1-27a1-415a-9aa4-b397690159a2",
   "metadata": {},
   "outputs": [],
   "source": []
  },
  {
   "cell_type": "code",
   "execution_count": 9,
   "id": "3eac38d9-8ef9-4e5c-9341-33d6429c3608",
   "metadata": {},
   "outputs": [
    {
     "name": "stdout",
     "output_type": "stream",
     "text": [
      "Found 3360 images belonging to 2 classes.\n",
      "Found 420 images belonging to 2 classes.\n",
      "Epoch 1/25\n",
      "\u001b[1m105/105\u001b[0m \u001b[32m━━━━━━━━━━━━━━━━━━━━\u001b[0m\u001b[37m\u001b[0m \u001b[1m138s\u001b[0m 1s/step - accuracy: 0.8331 - loss: 0.5619 - val_accuracy: 0.8333 - val_loss: 0.5876\n",
      "Epoch 2/25\n",
      "\u001b[1m105/105\u001b[0m \u001b[32m━━━━━━━━━━━━━━━━━━━━\u001b[0m\u001b[37m\u001b[0m \u001b[1m137s\u001b[0m 1s/step - accuracy: 0.8366 - loss: 0.4371 - val_accuracy: 0.8333 - val_loss: 0.7252\n",
      "Epoch 3/25\n",
      "\u001b[1m105/105\u001b[0m \u001b[32m━━━━━━━━━━━━━━━━━━━━\u001b[0m\u001b[37m\u001b[0m \u001b[1m134s\u001b[0m 1s/step - accuracy: 0.8316 - loss: 0.4245 - val_accuracy: 0.8333 - val_loss: 0.4630\n",
      "Epoch 4/25\n",
      "\u001b[1m105/105\u001b[0m \u001b[32m━━━━━━━━━━━━━━━━━━━━\u001b[0m\u001b[37m\u001b[0m \u001b[1m138s\u001b[0m 1s/step - accuracy: 0.8284 - loss: 0.4070 - val_accuracy: 0.8357 - val_loss: 0.4115\n",
      "Epoch 5/25\n",
      "\u001b[1m105/105\u001b[0m \u001b[32m━━━━━━━━━━━━━━━━━━━━\u001b[0m\u001b[37m\u001b[0m \u001b[1m135s\u001b[0m 1s/step - accuracy: 0.8428 - loss: 0.3765 - val_accuracy: 0.8333 - val_loss: 0.4055\n",
      "Epoch 6/25\n",
      "\u001b[1m105/105\u001b[0m \u001b[32m━━━━━━━━━━━━━━━━━━━━\u001b[0m\u001b[37m\u001b[0m \u001b[1m135s\u001b[0m 1s/step - accuracy: 0.8463 - loss: 0.3727 - val_accuracy: 0.8571 - val_loss: 0.4188\n",
      "Epoch 7/25\n",
      "\u001b[1m105/105\u001b[0m \u001b[32m━━━━━━━━━━━━━━━━━━━━\u001b[0m\u001b[37m\u001b[0m \u001b[1m137s\u001b[0m 1s/step - accuracy: 0.8430 - loss: 0.3528 - val_accuracy: 0.8738 - val_loss: 0.3731\n",
      "Epoch 8/25\n",
      "\u001b[1m105/105\u001b[0m \u001b[32m━━━━━━━━━━━━━━━━━━━━\u001b[0m\u001b[37m\u001b[0m \u001b[1m134s\u001b[0m 1s/step - accuracy: 0.8692 - loss: 0.3190 - val_accuracy: 0.9000 - val_loss: 0.2849\n",
      "Epoch 9/25\n",
      "\u001b[1m105/105\u001b[0m \u001b[32m━━━━━━━━━━━━━━━━━━━━\u001b[0m\u001b[37m\u001b[0m \u001b[1m133s\u001b[0m 1s/step - accuracy: 0.8733 - loss: 0.2914 - val_accuracy: 0.7238 - val_loss: 0.5184\n",
      "Epoch 10/25\n",
      "\u001b[1m105/105\u001b[0m \u001b[32m━━━━━━━━━━━━━━━━━━━━\u001b[0m\u001b[37m\u001b[0m \u001b[1m128s\u001b[0m 1s/step - accuracy: 0.8793 - loss: 0.2943 - val_accuracy: 0.8833 - val_loss: 0.3419\n",
      "Epoch 11/25\n",
      "\u001b[1m105/105\u001b[0m \u001b[32m━━━━━━━━━━━━━━━━━━━━\u001b[0m\u001b[37m\u001b[0m \u001b[1m127s\u001b[0m 1s/step - accuracy: 0.8868 - loss: 0.2754 - val_accuracy: 0.8857 - val_loss: 0.2646\n",
      "Epoch 12/25\n",
      "\u001b[1m105/105\u001b[0m \u001b[32m━━━━━━━━━━━━━━━━━━━━\u001b[0m\u001b[37m\u001b[0m \u001b[1m128s\u001b[0m 1s/step - accuracy: 0.8950 - loss: 0.2583 - val_accuracy: 0.9143 - val_loss: 0.2527\n",
      "Epoch 13/25\n",
      "\u001b[1m105/105\u001b[0m \u001b[32m━━━━━━━━━━━━━━━━━━━━\u001b[0m\u001b[37m\u001b[0m \u001b[1m127s\u001b[0m 1s/step - accuracy: 0.9041 - loss: 0.2507 - val_accuracy: 0.3976 - val_loss: 0.9520\n",
      "Epoch 14/25\n",
      "\u001b[1m105/105\u001b[0m \u001b[32m━━━━━━━━━━━━━━━━━━━━\u001b[0m\u001b[37m\u001b[0m \u001b[1m127s\u001b[0m 1s/step - accuracy: 0.8986 - loss: 0.2552 - val_accuracy: 0.5643 - val_loss: 0.7033\n",
      "Epoch 15/25\n",
      "\u001b[1m105/105\u001b[0m \u001b[32m━━━━━━━━━━━━━━━━━━━━\u001b[0m\u001b[37m\u001b[0m \u001b[1m126s\u001b[0m 1s/step - accuracy: 0.9083 - loss: 0.2350 - val_accuracy: 0.7095 - val_loss: 0.4991\n",
      "Epoch 16/25\n",
      "\u001b[1m105/105\u001b[0m \u001b[32m━━━━━━━━━━━━━━━━━━━━\u001b[0m\u001b[37m\u001b[0m \u001b[1m126s\u001b[0m 1s/step - accuracy: 0.9063 - loss: 0.2385 - val_accuracy: 0.8690 - val_loss: 0.3133\n",
      "Epoch 17/25\n",
      "\u001b[1m105/105\u001b[0m \u001b[32m━━━━━━━━━━━━━━━━━━━━\u001b[0m\u001b[37m\u001b[0m \u001b[1m126s\u001b[0m 1s/step - accuracy: 0.9028 - loss: 0.2315 - val_accuracy: 0.9095 - val_loss: 0.2411\n",
      "Epoch 18/25\n",
      "\u001b[1m105/105\u001b[0m \u001b[32m━━━━━━━━━━━━━━━━━━━━\u001b[0m\u001b[37m\u001b[0m \u001b[1m125s\u001b[0m 1s/step - accuracy: 0.9162 - loss: 0.2167 - val_accuracy: 0.9214 - val_loss: 0.1989\n",
      "Epoch 19/25\n",
      "\u001b[1m105/105\u001b[0m \u001b[32m━━━━━━━━━━━━━━━━━━━━\u001b[0m\u001b[37m\u001b[0m \u001b[1m126s\u001b[0m 1s/step - accuracy: 0.9163 - loss: 0.2268 - val_accuracy: 0.9357 - val_loss: 0.1795\n",
      "Epoch 20/25\n",
      "\u001b[1m105/105\u001b[0m \u001b[32m━━━━━━━━━━━━━━━━━━━━\u001b[0m\u001b[37m\u001b[0m \u001b[1m127s\u001b[0m 1s/step - accuracy: 0.9161 - loss: 0.2084 - val_accuracy: 0.8667 - val_loss: 0.3166\n",
      "Epoch 21/25\n",
      "\u001b[1m105/105\u001b[0m \u001b[32m━━━━━━━━━━━━━━━━━━━━\u001b[0m\u001b[37m\u001b[0m \u001b[1m126s\u001b[0m 1s/step - accuracy: 0.9029 - loss: 0.2435 - val_accuracy: 0.8190 - val_loss: 0.3538\n",
      "Epoch 22/25\n",
      "\u001b[1m105/105\u001b[0m \u001b[32m━━━━━━━━━━━━━━━━━━━━\u001b[0m\u001b[37m\u001b[0m \u001b[1m126s\u001b[0m 1s/step - accuracy: 0.9172 - loss: 0.2205 - val_accuracy: 0.9262 - val_loss: 0.1775\n",
      "Epoch 23/25\n",
      "\u001b[1m105/105\u001b[0m \u001b[32m━━━━━━━━━━━━━━━━━━━━\u001b[0m\u001b[37m\u001b[0m \u001b[1m126s\u001b[0m 1s/step - accuracy: 0.9238 - loss: 0.2021 - val_accuracy: 0.9071 - val_loss: 0.2423\n",
      "Epoch 24/25\n",
      "\u001b[1m105/105\u001b[0m \u001b[32m━━━━━━━━━━━━━━━━━━━━\u001b[0m\u001b[37m\u001b[0m \u001b[1m126s\u001b[0m 1s/step - accuracy: 0.9265 - loss: 0.1909 - val_accuracy: 0.8905 - val_loss: 0.2824\n",
      "Epoch 25/25\n",
      "\u001b[1m105/105\u001b[0m \u001b[32m━━━━━━━━━━━━━━━━━━━━\u001b[0m\u001b[37m\u001b[0m \u001b[1m126s\u001b[0m 1s/step - accuracy: 0.9333 - loss: 0.1791 - val_accuracy: 0.8095 - val_loss: 0.3555\n"
     ]
    }
   ],
   "source": [
    "from tensorflow.keras.optimizers import Adam\n",
    "\n",
    "# Unfreeze last 10 layers of ResNet50\n",
    "for layer in base_model.layers[-10:]:  \n",
    "    layer.trainable = True\n",
    "\n",
    "# Apply Data Augmentation\n",
    "datagen = ImageDataGenerator(\n",
    "    rescale=1./255,\n",
    "    rotation_range=20,   \n",
    "    width_shift_range=0.2,  \n",
    "    height_shift_range=0.2,  \n",
    "    horizontal_flip=True,  \n",
    "    brightness_range=[0.8, 1.2],  \n",
    ")\n",
    "\n",
    "# Load Data\n",
    "train_data = datagen.flow_from_directory(os.path.join(data_dir, \"train\"), target_size=(224, 224), batch_size=32, class_mode=\"binary\")\n",
    "val_data = datagen.flow_from_directory(os.path.join(data_dir, \"val\"), target_size=(224, 224), batch_size=32, class_mode=\"binary\")\n",
    "\n",
    "# Compile with Lower Learning Rate\n",
    "model.compile(optimizer=Adam(learning_rate=1e-5), loss=\"binary_crossentropy\", metrics=[\"accuracy\"])\n",
    "\n",
    "# Train for More Epochs\n",
    "history = model.fit(train_data, validation_data=val_data, epochs=25)"
   ]
  },
  {
   "cell_type": "code",
   "execution_count": 10,
   "id": "f29db357-8234-431e-98b7-90029a9e0648",
   "metadata": {},
   "outputs": [
    {
     "name": "stdout",
     "output_type": "stream",
     "text": [
      "\u001b[1m14/14\u001b[0m \u001b[32m━━━━━━━━━━━━━━━━━━━━\u001b[0m\u001b[37m\u001b[0m \u001b[1m9s\u001b[0m 651ms/step - accuracy: 0.9341 - loss: 0.1798\n",
      "Test Accuracy: 94.05%\n"
     ]
    }
   ],
   "source": [
    "# Evaluate on Test Data\n",
    "test_loss, test_acc = model.evaluate(test_data)\n",
    "print(f\"Test Accuracy: {test_acc:.2%}\")"
   ]
  },
  {
   "cell_type": "code",
   "execution_count": 11,
   "id": "93315379-b7ce-4325-b9d5-b180b1cffd85",
   "metadata": {},
   "outputs": [
    {
     "name": "stderr",
     "output_type": "stream",
     "text": [
      "WARNING:absl:You are saving your model as an HDF5 file via `model.save()` or `keras.saving.save_model(model)`. This file format is considered legacy. We recommend using instead the native Keras format, e.g. `model.save('my_model.keras')` or `keras.saving.save_model(model, 'my_model.keras')`. \n"
     ]
    }
   ],
   "source": [
    "# Save Model\n",
    "model.save(\"TB_Detection_ResNet50.h5\")"
   ]
  },
  {
   "cell_type": "code",
   "execution_count": null,
   "id": "d75c41d2-c47e-46ed-a394-bcda35d3e7bf",
   "metadata": {},
   "outputs": [],
   "source": []
  },
  {
   "cell_type": "code",
   "execution_count": 17,
   "id": "2cfe789c-cbd3-46b5-807d-5883030604c2",
   "metadata": {},
   "outputs": [
    {
     "data": {
      "image/png": "[encoded data removed]",
      "text/plain": [
       "<Figure size 640x480 with 1 Axes>"
      ]
     },
     "metadata": {},
     "output_type": "display_data"
    }
   ],
   "source": [
    "plt.subplot(1, 2, 1)\n",
    "plt.plot(history.history['accuracy'], label='Train Accuracy')\n",
    "plt.plot(history.history['val_accuracy'], label='Validation Accuracy')\n",
    "plt.xlabel('Epochs')\n",
    "plt.ylabel('Accuracy')\n",
    "plt.legend()\n",
    "plt.title('Accuracy over Epochs')\n",
    "plt.show()"
   ]
  },
  {
   "cell_type": "code",
   "execution_count": 18,
   "id": "0c1a3ecc-fe76-4dc4-905f-fdabc7bbd63b",
   "metadata": {},
   "outputs": [
    {
     "data": {
      "text/plain": [
       "Text(0.5, 1.0, 'Loss over Epochs')"
      ]
     },
     "execution_count": 18,
     "metadata": {},
     "output_type": "execute_result"
    },
    {
     "data": {
      "image/png": "[encoded data removed]",
      "text/plain": [
       "<Figure size 640x480 with 1 Axes>"
      ]
     },
     "metadata": {},
     "output_type": "display_data"
    }
   ],
   "source": [
    "plt.subplot(1, 2, 2)\n",
    "plt.plot(history.history['loss'], label='Train Loss')\n",
    "plt.plot(history.history['val_loss'], label='Validation Loss')\n",
    "plt.xlabel('Epochs')\n",
    "plt.ylabel('Loss')\n",
    "plt.legend()\n",
    "plt.title('Loss over Epochs')"
   ]
  },
  {
   "cell_type": "code",
   "execution_count": 1,
   "id": "8c673b66-e884-4419-87a3-0c1ccdf1960f",
   "metadata": {},
   "outputs": [],
   "source": [
    "# This is because of inblanced data in train, test and val"
   ]
  },
  {
   "cell_type": "code",
   "execution_count": null,
   "id": "6684fb5f-fe59-49c3-a4fd-1bb4c2cb409e",
   "metadata": {},
   "outputs": [],
   "source": []
  }
 ],
 "metadata": {
  "kernelspec": {
   "display_name": "Python 3 (ipykernel)",
   "language": "python",
   "name": "python3"
  },
  "language_info": {
   "codemirror_mode": {
    "name": "ipython",
    "version": 3
   },
   "file_extension": ".py",
   "mimetype": "text/x-python",
   "name": "python",
   "nbconvert_exporter": "python",
   "pygments_lexer": "ipython3",
   "version": "3.12.7"
  }
 },
 "nbformat": 4,
 "nbformat_minor": 5
}
